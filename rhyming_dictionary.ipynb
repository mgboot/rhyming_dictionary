{
 "cells": [
  {
   "cell_type": "code",
   "execution_count": 69,
   "metadata": {},
   "outputs": [],
   "source": [
    "def create_pron_dict(f):\n",
    "    \n",
    "    \"\"\" create and fill a dictionary\n",
    "    where keys are words (e.g. [\"BEAT\", \"BEET\"])\n",
    "    and values are the phonological transcriptions (e.g. \"B IY1 T\") \"\"\"\n",
    "\n",
    "    print(\"Creating pronunciation dictionary ...\")\n",
    "    \n",
    "    entries = f.split(\"\\n\")\n",
    "    \n",
    "    pron_dict = {}\n",
    "\n",
    "    for e in entries:\n",
    "        word = e.split(\"  \")[0]\n",
    "        phonemes = e.split(\"  \")[1]\n",
    "\n",
    "        # a few monosyllabic words (like \"the\", \"a(n)\", \"-n't\"; these are called \"clitics\")\n",
    "        # do not have any primary word-stress, and as such cannot really rhyme with anything.\n",
    "        # we will exempt them from the set.\n",
    "        \n",
    "        if \"1\" not in phonemes:\n",
    "            continue\n",
    "            \n",
    "        # add word and phoneme string to the dict\n",
    "        \n",
    "        pron_dict[word] = phonemes\n",
    "    \n",
    "    print(\"Created pronunciation dictionary.\")\n",
    "        \n",
    "    return pron_dict"
   ]
  },
  {
   "cell_type": "code",
   "execution_count": 228,
   "metadata": {},
   "outputs": [],
   "source": [
    "def extract_rhyme(phonemes):\n",
    "    \"\"\" In order to create a dictionary with rhyming segments as keys, we need an algorithm\n",
    "    to identify what the rhyming portion of any word is. This function inputs the string containing the\n",
    "    phonemes of a word and returns a substring containing only the rhyming portion of the word. \"\"\"\n",
    "    \n",
    "    rhyme = []\n",
    "    \n",
    "    # break pronunciation string into a list of separate phonemes\n",
    "    p = phonemes.split()\n",
    "    \n",
    "    # iterate backwards through string until landing on a phoneme ending in \"1\" (=the stressed vowel)\n",
    "    for i in reversed(range(len(p))):\n",
    "        if \"1\" in p[i]:\n",
    "            \n",
    "            # define the rhyming section as everything from this phoneme onward\n",
    "            rhyme = p[i:]\n",
    "            break\n",
    "    \n",
    "    # return the rhyming phonemes joined together as a string, separated by spaces\n",
    "    return \" \".join(rhyme)"
   ]
  },
  {
   "cell_type": "code",
   "execution_count": 83,
   "metadata": {},
   "outputs": [],
   "source": [
    "def create_rhy_dict(pron_dict):\n",
    "    \"\"\" create a similar dictionary where keys are the rhyming segment of a word (strings)\n",
    "    and values are lists of words (strings) that end in that particular rhyme. \"\"\"\n",
    "    \n",
    "    print(\"Creating rhyming dictionary ...\")\n",
    "    \n",
    "    rhy_dict = {}\n",
    "    \n",
    "    for k in pron_dict:\n",
    "        word = k\n",
    "        phonemes = pron_dict[k]\n",
    "        \n",
    "        rhyme = extract_rhyme(phonemes)\n",
    "        \n",
    "        if rhyme not in rhy_dict:\n",
    "            rhy_dict[rhyme] = []\n",
    "        \n",
    "        rhy_dict[rhyme].append(word)\n",
    "    \n",
    "    print(\"Created rhyming dictionary.\")\n",
    "    \n",
    "    return rhy_dict"
   ]
  },
  {
   "cell_type": "code",
   "execution_count": 186,
   "metadata": {},
   "outputs": [],
   "source": [
    "def get_rhymes(word, syllables=0):\n",
    "    \n",
    "    word = word.upper()\n",
    "    \n",
    "    try:\n",
    "        phonemes = pron_dict[word]\n",
    "    \n",
    "    except(KeyError):\n",
    "        print(\"The word\", word, \"was not found in the pronunciation dictionary.\")\n",
    "        return None\n",
    "        \n",
    "    rhyme = extract_rhyme(phonemes)\n",
    "    \n",
    "    r = rhy_dict[rhyme][:]\n",
    "    \n",
    "    # we don't want to say that the word rhymes with itself\n",
    "    \n",
    "    if word in r:\n",
    "        r.remove(word)\n",
    "\n",
    "    # narrow list to words with a specified number of syllables\n",
    "    \n",
    "    if syllables > 0:\n",
    "        for w in reversed(r):\n",
    "            if count_syllables(w) != syllables:\n",
    "                r.remove(w)\n",
    "                \n",
    "    # if no rhymes were found AND a syllable count was specified\n",
    "                \n",
    "    if len(r) == 0 and syllables > 0:\n",
    "        print(\"No rhymes of the specified syllable count were found for\", word, \".\")\n",
    "        \n",
    "    # if no rhymes were found and NO syllable count was specified\n",
    "        \n",
    "    elif len(r) == 0:\n",
    "        print(\"No rhymes were found for\", word, \".\")\n",
    "    \n",
    "    # if rhymes were found\n",
    "    \n",
    "    else:\n",
    "        print(word, \"rhymes with \", end=\"\")\n",
    "    \n",
    "    for w in r:\n",
    "        print(w, end=\" \")\n",
    "    \n",
    "    return None"
   ]
  },
  {
   "cell_type": "code",
   "execution_count": 173,
   "metadata": {},
   "outputs": [],
   "source": [
    "import re\n",
    "\n",
    "def count_syllables(word):\n",
    "    \n",
    "    try:\n",
    "        phonemes = pron_dict[word]\n",
    "    \n",
    "    except(KeyError):\n",
    "        print(\"The word\", word, \"was not found in the pronunciation dictionary.\")\n",
    "        return None\n",
    "            \n",
    "    return len(re.findall(\"[0-2]\", phonemes))"
   ]
  },
  {
   "cell_type": "code",
   "execution_count": 170,
   "metadata": {},
   "outputs": [
    {
     "name": "stdout",
     "output_type": "stream",
     "text": [
      "Creating pronunciation dictionary ...\n",
      "Created pronunciation dictionary.\n",
      "Creating rhyming dictionary ...\n",
      "Created rhyming dictionary.\n"
     ]
    }
   ],
   "source": [
    "f = open(\"pronunciation_dict.txt\")\n",
    "f = f.read()\n",
    "\n",
    "pron_dict = create_pron_dict(f)\n",
    "\n",
    "rhy_dict = {}\n",
    "\n",
    "rhy_dict = create_rhy_dict(pron_dict)"
   ]
  },
  {
   "cell_type": "code",
   "execution_count": 231,
   "metadata": {},
   "outputs": [
    {
     "name": "stdout",
     "output_type": "stream",
     "text": [
      "DISCUSSED rhymes with ADJUST ANTITRUST BLUST BRUST BUSED BUSSED BUST CLEVETRUST COMBUST CRUST CUSSED DISGUST DISTRUST DUST ENCRUST ENTRUST FUSSED FUST GUST GUSTE HUST INCRUST JUST KNUST LUST MISTRUST MUST NONPLUSSED PRUST READJUST ROBUST RUST THRUST TRUST UNADJUST UNJUST USTRUST YUST "
     ]
    }
   ],
   "source": [
    "# Input word for which you want rhymes here!\n",
    "\n",
    "# You can optionally limit your results to words with a specified syllable count:\n",
    "# i.e., get_rhymes(\"IMPLORE\", 1) will return \"LORE\" but not \"LENORE.\"\n",
    "\n",
    "get_rhymes(\"DISCUSSED\")\n"
   ]
  },
  {
   "cell_type": "code",
   "execution_count": null,
   "metadata": {},
   "outputs": [],
   "source": []
  }
 ],
 "metadata": {
  "kernelspec": {
   "display_name": "Python 3",
   "language": "python",
   "name": "python3"
  },
  "language_info": {
   "codemirror_mode": {
    "name": "ipython",
    "version": 3
   },
   "file_extension": ".py",
   "mimetype": "text/x-python",
   "name": "python",
   "nbconvert_exporter": "python",
   "pygments_lexer": "ipython3",
   "version": "3.7.4"
  }
 },
 "nbformat": 4,
 "nbformat_minor": 2
}
